{
 "cells": [
  {
   "cell_type": "markdown",
   "id": "eb67d8dc-f157-42ba-9f42-fc82da9cd147",
   "metadata": {},
   "source": [
    "# 2-dars. Sodda ma’lumot turlari va o’zgaruvchilar.\n",
    "\n",
    "- [ ]  **O’zgaruvchilar.**\n",
    "- [ ]  **O’zgaruvchi nomlari.**\n",
    "- [ ]  **\"string\" ma’lumot turi.**\n",
    "- [ ]  **Maxsus belgilar.**\n",
    "- [ ]  **Formatlangan string. \"f-string\"**\n",
    "- [ ]  **String metodlari.**\n",
    "- [ ]  **Raqamlar bilan ishlash. \"integer\", \"float\", \"complex\".**\n",
    "- [ ]  **Boolean - mantiqiy qiymat.**\n",
    "- [ ]  **Ma’lumot turini o’zgartirish.**"
   ]
  },
  {
   "cell_type": "markdown",
   "id": "d86bf4ef-da70-4b99-b5cc-78e2d9293d48",
   "metadata": {},
   "source": [
    " ## 1. O'zgaruvchilar"
   ]
  },
  {
   "cell_type": "markdown",
   "id": "6c553023-50db-4c54-96a4-1bb85d05f48b",
   "metadata": {},
   "source": [
    "- ### O'zgaruvchi - qiymat bilan bog'langan va qiymati o'zgartirilishi mumkin bo'lgan ramziy nom."
   ]
  },
  {
   "cell_type": "markdown",
   "id": "19603ebf-98b0-43c5-bcec-3c616becee12",
   "metadata": {},
   "source": [
    "## 2. O’zgaruvchi nomlari"
   ]
  },
  {
   "cell_type": "markdown",
   "id": "dfc1235f-308d-4e6a-8eaa-70bdab06968c",
   "metadata": {},
   "source": [
    "- 1. O'zgaruvchi nomlarida simvollardan qatnashishi mumkin emas!\n",
    "- 2. O'zgaruvchilar nomlari raqamlar bilan boshlanmaydi!\n",
    "- 3. O'zgaruvchi nomi o'rtasida bo'shliq \"probel\" qatnashmasligi kerak!"
   ]
  },
  {
   "cell_type": "code",
   "execution_count": null,
   "id": "53138b53-b13e-4c92-95b3-d08d14c78096",
   "metadata": {},
   "outputs": [],
   "source": [
    "# To'g'ri berilgan!\n",
    "\n",
    "username = \"John Doe\"\n",
    "userNAME = \"Alex Cross\"\n",
    "user_name = \"admin\"\n",
    "_username = \"admin2\"\n",
    "\n",
    "# Noto'g'ri berilgan!\n",
    "\n",
    "1age = 12\n",
    "user&name = \"admin\"\n",
    "user name = \"admin2\""
   ]
  },
  {
   "cell_type": "markdown",
   "id": "45a637ee-d054-4198-bf0b-b447b4b04d51",
   "metadata": {},
   "source": [
    "## 3. \"string\" ma'lumot turi."
   ]
  },
  {
   "cell_type": "markdown",
   "id": "8a5010dc-7f9a-4949-b183-c55cd7bca971",
   "metadata": {},
   "source": [
    "- ### String - belgilar ketma-ketligidir. U so'zlar yoki jumlalar kabi matnni saqlash uchun ishlatiladi. Satrlar qo'shtirnoq ichida (bitta yoki juft) olinadi."
   ]
  },
  {
   "cell_type": "code",
   "execution_count": null,
   "id": "54816732-14f5-4717-86ec-9e378a0a6ba9",
   "metadata": {},
   "outputs": [],
   "source": [
    "# Satrli ma'lumotlarga misol:\n",
    "\n",
    "your_firstname = \"Ozodbek\"\n",
    "your_lastname = 'Yusupov'\n",
    "your_skills = \"\"\"\n",
    "Python, Django\n",
    "Javascript, ReactJS\n",
    "Dart, Flutter\n",
    "\"\"\""
   ]
  },
  {
   "cell_type": "markdown",
   "id": "60d98355-2849-4a5e-ae69-85b7bf382a65",
   "metadata": {},
   "source": [
    "## 4. Maxsus belgilar."
   ]
  },
  {
   "cell_type": "code",
   "execution_count": null,
   "id": "1c6c2cd0-f8bc-472e-abe4-1ea9661e0034",
   "metadata": {},
   "outputs": [],
   "source": [
    "# Maxsus belgilar:\n",
    "one_error = 'O'zbekiston'  # SyntaxError\n",
    "one_fixed = 'O\\'zbekiston' # O'zbekiston\n",
    "\n",
    "two_1 = \"Python\"        # Python\n",
    "two_2 = \"\\tPython\"      #       Python\n",
    "\n",
    "three_1 = \"Django\"               # Django\n",
    "three_2 = \"Django\\nFramework\"    # Django\n",
    "                                 # Framework\n",
    "    \n",
    "print(\"Python\")\n",
    "print(\"Django\", end=\"\\r\") # Kursorni boshiga qaytaradi!"
   ]
  },
  {
   "cell_type": "markdown",
   "id": "3cc49dda-457b-4e6c-8e03-7f5eb1c86345",
   "metadata": {},
   "source": [
    "## 5. \"f-string\". Formatlangan string."
   ]
  },
  {
   "cell_type": "code",
   "execution_count": null,
   "id": "e837fec6-dc21-4eac-8281-f969fbb32610",
   "metadata": {},
   "outputs": [],
   "source": [
    "# F-STRING. 1-metod:\n",
    "firstname = \"Ozodbek\"\n",
    "age = 22\n",
    "full_info = f\"My name is {firstname}. My age: {age}\"\n",
    "print(full_info) # My name is Ozodbek. My age: 22\n",
    "\n",
    "# format(). 2-metod:\n",
    "firstname = \"Ozodbek\"\n",
    "age = 22\n",
    "full_info = \"My name is {}. My age: {}\".format(firstname, age)\n",
    "print(full_info) # My name is Ozodbek. My age: 22\n",
    "\n",
    "# format(). 3-metod:\n",
    "full_info = \"My name is {firstname}. My age: {age}\".format(firstname=\"Ozodbek\", age=22)\n",
    "print(full_info) # My name is Ozodbek. My age: 22\n",
    "\n",
    "# % belgisidan foydalanish:\n",
    "print(\"My name is %s. My age: %d\" % (\"Ozodbek\", 22)) # My name is Ozodbek. My age: 22"
   ]
  },
  {
   "cell_type": "markdown",
   "id": "69e1a7c4-0bf3-48a2-8091-cc45ee4b678d",
   "metadata": {},
   "source": [
    "## 6. String metodlari."
   ]
  },
  {
   "cell_type": "code",
   "execution_count": null,
   "id": "9da75b84-d975-49b4-8136-6bff7a7d6eb2",
   "metadata": {},
   "outputs": [],
   "source": [
    "# String metodlari:\n",
    "print(\"Uzbekistan\".upper())              # UZBEKISTAN\n",
    "print(\"Uzbekistan\".lower())              # uzbekistan\n",
    "print(\"python and django\".capitalize())  # Python and django\n",
    "print(\"python and django\".title())       # Python And Django\n",
    "print(\"Python and Django\".split(\" \"))    # [\"Python\", \"and\", \"Django\"]\n",
    "print(\"     Python\".lstrip())            # Python\n",
    "print(\"Python     \".rstrip())            # Python\n",
    "print(\"     Python     \".strip())        # Python\n",
    "print(\"\".zfill(6))                       # 000000\n",
    "print(\"-\".join(\"PYTHON\"))                # P-Y-T-H-O-N\n",
    "print(\"HELLO\".count(\"L\"))                # 2\n",
    "print(\"HELLO\".index(\"O\"))                # 4\n",
    "print(len(\"HELLO\"))                      # 5\n",
    "print(\"HELLO\"[0:2])                      # HE\n",
    "print(\"HELLO\"[0:])                       # HELLO\n",
    "print(\"HELLO\"[:-1])                      # HELL\n",
    "print(\"PYTHON\"[::2])                     # PTO\n",
    "print(\"PYTHON\"[::-1])                    # NOHTYP"
   ]
  },
  {
   "cell_type": "markdown",
   "id": "9855ab77-b8db-4858-9532-59ac87a46ef8",
   "metadata": {},
   "source": [
    "## 7. Raqamlar. (integer, float, complex)."
   ]
  },
  {
   "cell_type": "code",
   "execution_count": null,
   "id": "338c1a0c-3e05-4740-a36c-fd3e17488403",
   "metadata": {},
   "outputs": [],
   "source": [
    "# Raqamlar:\n",
    "\n",
    "# Integer (Bugun sonlar):\n",
    "age = 22                # 22\n",
    "price = 20000 + 15000   # 35000\n",
    "\n",
    "# Float (O'nlik sonlar):\n",
    "temp = 36.6             # 36.6\n",
    "pi = 3.1416             # 3.1416\n",
    "\n",
    "# Complex (Murakkab sonlar):\n",
    "z = complex(3, 4)\n",
    "print(z.real)           # 3.0\n",
    "print(z.imag)           # 4.0"
   ]
  },
  {
   "cell_type": "markdown",
   "id": "9ad8e6f8-c8e9-49df-ae30-59b163a8e1ae",
   "metadata": {},
   "source": [
    "## 8. Boolean - mantiqiy qiymatlar."
   ]
  },
  {
   "cell_type": "code",
   "execution_count": null,
   "id": "efba5b61-b705-409c-a1ad-1c1aa2d9445f",
   "metadata": {},
   "outputs": [],
   "source": [
    "# Mantiqiy qiymat (boolean):\n",
    "isCool = True\n",
    "isHot = False\n",
    "\n",
    "2 < 3  # True\n",
    "2 > 3  # False\n",
    "2 == 3 # False\n",
    "2 >= 3 # False\n",
    "2 <= 3 # True\n",
    "2 != 3 # True"
   ]
  },
  {
   "cell_type": "markdown",
   "id": "fd95fe57-7327-4a6e-af5d-06be7f346800",
   "metadata": {},
   "source": [
    "## 9. Turni tekshirish va o'zgartirish."
   ]
  },
  {
   "cell_type": "code",
   "execution_count": null,
   "id": "80c65174-cc1c-4394-b119-e3738b6c6b55",
   "metadata": {},
   "outputs": [],
   "source": [
    "# Turni tekshirish va o'zgatirish:\n",
    "\n",
    "# Ma'lumot turini tekshirish:\n",
    "firstname = \"Ozodbek\"\n",
    "age = 22\n",
    "isMarried = False\n",
    "print(type(firstname))    # <class 'str'>\n",
    "print(type(age))          # <class 'int'>\n",
    "print(type(isMarried))    # <class 'bool'>\n",
    "\n",
    "# Ma'lumot turini o'zgartirish:\n",
    "VARIABLE = 1\n",
    "str(VARIABLE)    # \"1\"\n",
    "int(VARIABLE)    # 1\n",
    "float(VARIABLE)  # 1.0\n",
    "bool(VARIABLE)   # True"
   ]
  }
 ],
 "metadata": {
  "kernelspec": {
   "display_name": "Python 3 (ipykernel)",
   "language": "python",
   "name": "python3"
  },
  "language_info": {
   "codemirror_mode": {
    "name": "ipython",
    "version": 3
   },
   "file_extension": ".py",
   "mimetype": "text/x-python",
   "name": "python",
   "nbconvert_exporter": "python",
   "pygments_lexer": "ipython3",
   "version": "3.10.8"
  }
 },
 "nbformat": 4,
 "nbformat_minor": 5
}
